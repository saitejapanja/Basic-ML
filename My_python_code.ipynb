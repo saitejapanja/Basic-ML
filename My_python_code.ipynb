{
  "nbformat": 4,
  "nbformat_minor": 0,
  "metadata": {
    "colab": {
      "name": "My python code.ipynb",
      "provenance": [],
      "authorship_tag": "ABX9TyOLwUwbY3imFdTBRVrhr/Gk",
      "include_colab_link": true
    },
    "kernelspec": {
      "name": "python3",
      "display_name": "Python 3"
    },
    "language_info": {
      "name": "python"
    }
  },
  "cells": [
    {
      "cell_type": "markdown",
      "metadata": {
        "id": "view-in-github",
        "colab_type": "text"
      },
      "source": [
        "<a href=\"https://colab.research.google.com/github/saitejapanja/Basic-ML/blob/main/My_python_code.ipynb\" target=\"_parent\"><img src=\"https://colab.research.google.com/assets/colab-badge.svg\" alt=\"Open In Colab\"/></a>"
      ]
    },
    {
      "cell_type": "markdown",
      "metadata": {
        "id": "VTKbvvJXIXFD"
      },
      "source": [
        "My python code\n"
      ]
    },
    {
      "cell_type": "code",
      "metadata": {
        "colab": {
          "base_uri": "https://localhost:8080/"
        },
        "id": "FlOVcuAeIK8u",
        "outputId": "6b2ad42a-ef5e-47fe-81f2-3cb77c9493ae"
      },
      "source": [
        "a=2\n",
        "if (a%2==0):\n",
        "  print(\"even\")\n",
        "else:\n",
        "  print(\"Odd\")\n",
        "\n",
        "\n",
        "  "
      ],
      "execution_count": 1,
      "outputs": [
        {
          "output_type": "stream",
          "text": [
            "even\n"
          ],
          "name": "stdout"
        }
      ]
    },
    {
      "cell_type": "code",
      "metadata": {
        "colab": {
          "base_uri": "https://localhost:8080/"
        },
        "id": "cCAkvmybLdnG",
        "outputId": "90abfc70-626e-4107-bd0c-058652ce3a29"
      },
      "source": [
        "a=5\n",
        "b=10\n",
        "c=a+b\n",
        "print(c)"
      ],
      "execution_count": 2,
      "outputs": [
        {
          "output_type": "stream",
          "text": [
            "15\n"
          ],
          "name": "stdout"
        }
      ]
    },
    {
      "cell_type": "code",
      "metadata": {
        "colab": {
          "base_uri": "https://localhost:8080/"
        },
        "id": "WNGVqAr6LpWy",
        "outputId": "d956c6fb-d0f4-4d7c-ce2c-4ae6ea337e5c"
      },
      "source": [
        "a=5\n",
        "b=8\n",
        "c=a*b\n",
        "print(c)"
      ],
      "execution_count": 6,
      "outputs": [
        {
          "output_type": "stream",
          "text": [
            "40\n"
          ],
          "name": "stdout"
        }
      ]
    }
  ]
}